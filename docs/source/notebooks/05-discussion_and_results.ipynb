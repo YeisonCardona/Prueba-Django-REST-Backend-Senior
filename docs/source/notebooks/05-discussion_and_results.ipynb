{
 "cells": [
  {
   "cell_type": "markdown",
   "id": "9aa95659-0d0a-4343-9f9f-da0ad38afede",
   "metadata": {},
   "source": [
    "# Discussion and results"
   ]
  },
  {
   "cell_type": "markdown",
   "id": "ea341220-66e4-452f-9fa2-2d494d43963b",
   "metadata": {},
   "source": [
    "## \"Other\" modules implemented"
   ]
  },
  {
   "cell_type": "markdown",
   "id": "aa9f120c-552e-40e8-bd4e-a7db5a70c9c3",
   "metadata": {},
   "source": [
    "### aioAPI()\n",
    "\n",
    "`aioAPI` is an asynchronous API client. It allows you to interact with an API (Application Programming Interface) asynchronously. This means you can send multiple requests without waiting for each one to finish before sending the next one. This is especially useful when you need to make multiple requests that don't depend on each other, as it can significantly speed up your code.\n",
    "\n",
    "In your script, `aioAPI` is used to communicate with your API. You can send GET, POST, PATCH, and DELETE requests to different endpoints, such as users, posts, comments, and likes.\n",
    "\n",
    "The `aioAPI` class likely uses the `aiohttp` library to send HTTP requests, which is a popular choice for sending asynchronous requests in Python."
   ]
  },
  {
   "cell_type": "markdown",
   "id": "b08f275f-54fd-4960-ab1a-8256ad7ad029",
   "metadata": {},
   "source": [
    "### JSON()\n",
    "\n",
    "\n",
    "The `JSON` function you're referring to is a custom implementation designed for printing complex JSON-like data structures (such as nested dictionaries and lists) in a readable format, while also limiting the output size by truncating long lists.\n",
    "\n",
    "Here's an explanation of its components:\n",
    "\n",
    "`truncate_list`: This function takes a list and truncates it to a maximum length specified by `max_list_len`. If the list is longer than `max_list_len`, it replaces the rest of the list with an ellipsis (\"...\").\n",
    "\n",
    "`format_list`: This function converts a list into a string representation, using the truncate_list function to limit the length of the list. It uses an ellipsis (\"...\") to indicate that a list has been truncated.\n",
    "\n",
    "`truncate_and_format_lists`: This is a recursive function that processes a nested JSON-like object and applies truncation and formatting to all lists within the object. It also formats dictionaries to add indentation and line breaks for readability. It handles nested structures by recursively calling itself for each nested list or dictionary.\n",
    "\n",
    "The main part of the `JSON` function uses `truncate_and_format_lists` to process the input object, then corrects a few formatting issues related to the placement of ellipses, and finally prints the resulting string.\n",
    "\n",
    "This `JSON` function is designed to be used in a scripting or debugging context, where you want to inspect complex data structures but don't want to be overwhelmed by very long lists. By truncating long lists, it helps you focus on the overall structure of the data without getting lost in the details.\n"
   ]
  },
  {
   "cell_type": "markdown",
   "id": "68d78e83-e3c6-45e0-baf2-67bb955c924b",
   "metadata": {},
   "source": [
    "### Dunderlab-Docs\n",
    "\n",
    "DunderLab-Docs is a Python module that enables the creation of Sphinx Documentation from simple Jupyter Notebooks. Essentially, it's a preconfigured environment that uses nbsphinx in the background with a set of custom styles and preloaded modules​. [DunderLab-Docs](https://dunderlab-docs.readthedocs.io/en/latest/)"
   ]
  },
  {
   "cell_type": "markdown",
   "id": "5dc745be-cc5d-4e1c-9cb2-63287820d4ec",
   "metadata": {},
   "source": [
    "## Possible improvements and Missing implementations\n",
    "\n",
    "Just wanted to circle back on a few things that I wasn't able to wrap up during the trial. It was a pretty cool experience, but I'd be lying if I said I nailed it all. So here are a few areas I think could use a bit more love:\n",
    "\n",
    "  * **Comments**: We all know that code is like a good book - it needs a bit of narration. I realize I didn't leave as many comments in the code as I could have. They're on my radar for next time to make the story clearer for anyone who's reading it.\n",
    "  * **Error Handling**: There's nothing worse than hitting a roadblock, and I know I missed a couple of safety nets. Specifically, I didn't add enough checks for things like non-existent objects. You know, the \"Oops! This doesn't exist\" kind of situations. Definitely a key area to work on.\n",
    "  * **Image Uploads**: Now this one, I didn't get to at all. Uploading images is a super important feature and it's on my to-do list for the future. With a little more time, I'm sure I can sort it out.\n",
    "\n",
    "\n",
    "So yeah, there's room for growth and improvement for sure. But hey, that's coding, right? We live, we learn, and we get better.  \n",
    "Looking forward to the opportunity to dive back in and patch up those holes!\n",
    "  \n",
    "Best,  \n",
    "_Yeison Cardona <3_"
   ]
  }
 ],
 "metadata": {
  "kernelspec": {
   "display_name": "Python 3 (ipykernel)",
   "language": "python",
   "name": "python3"
  },
  "language_info": {
   "codemirror_mode": {
    "name": "ipython",
    "version": 3
   },
   "file_extension": ".py",
   "mimetype": "text/x-python",
   "name": "python",
   "nbconvert_exporter": "python",
   "pygments_lexer": "ipython3",
   "version": "3.11.3"
  }
 },
 "nbformat": 4,
 "nbformat_minor": 5
}
