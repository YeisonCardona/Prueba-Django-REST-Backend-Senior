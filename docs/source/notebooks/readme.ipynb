{
 "cells": [
  {
   "cell_type": "code",
   "execution_count": null,
   "id": "2a59cbd0-6e6c-44ec-bfae-6b529b3826de",
   "metadata": {
    "editable": true,
    "slideshow": {
     "slide_type": ""
    },
    "tags": []
   },
   "outputs": [],
   "source": []
  },
  {
   "cell_type": "markdown",
   "id": "a4b11755-22f8-4af5-bcd8-b57f9dc7770c",
   "metadata": {},
   "source": [
    "# Prueba-Django-REST-Backend-Senior - Getting started\n",
    "\n",
    "Welcome to our Django REST API project! This API allows for managing users, user profiles, blog posts, comments, likes and tags. Whether you are an admin, editor, or blogger, you can use this API to meet your requirements and manage all your content in a structured and efficient manner."
   ]
  },
  {
   "cell_type": "markdown",
   "id": "226ee3fc-5acf-49fc-a7f5-5c76730dfe88",
   "metadata": {
    "editable": true,
    "slideshow": {
     "slide_type": ""
    },
    "tags": []
   },
   "source": [
    "## Installation (from GitHub)\n",
    "\n",
    "To get started, you need to clone the repository from GitHub to your local machine. After cloning the repo, navigate to the main project directory and install the required dependencies using pip. Here's how you do it:"
   ]
  },
  {
   "cell_type": "code",
   "execution_count": null,
   "id": "71df3f97-c81f-4ba7-9897-a6386de3efc0",
   "metadata": {},
   "outputs": [],
   "source": [
    "$ git clone https://github.com/YeisonCardona/Prueba-Django-REST-Backend-Senior.git\n",
    "$ cd Prueba-Django-REST-Backend-Senior\n",
    "$ pip install -r requirements.txt "
   ]
  },
  {
   "cell_type": "markdown",
   "id": "d5443e13-f88d-406f-88b1-56a7ddbc3e25",
   "metadata": {
    "editable": true,
    "slideshow": {
     "slide_type": ""
    },
    "tags": []
   },
   "source": [
    "## Setting up\n",
    "\n",
    "Before you can start using the application, you need to set up your database. Django makes this easy with the 'migrate' command, which will create the necessary database tables according to your models. After setting up your database, you need to create a superuser account that has all permissions to manage the API:"
   ]
  },
  {
   "cell_type": "code",
   "execution_count": null,
   "id": "474c9bab-8342-46e3-a7f0-60a3951ce0e0",
   "metadata": {},
   "outputs": [],
   "source": [
    "$ cd blog\n",
    "$ python manage.py migrate\n",
    "$ python manage.py createsuperuser --username superuser --email super@mail.com"
   ]
  },
  {
   "cell_type": "markdown",
   "id": "7ed0304e-b145-4249-bf69-9420d9d1f7a8",
   "metadata": {},
   "source": [
    "## Generate test dataset\n",
    "\n",
    "You can populate your database with some test data. This is useful for testing out the API's functionality before deploying it to a live environment. To generate the test data, run the 'create_fake_data.sh' script. The output will tell you how many users, profiles, tags, posts, comments, and likes were created:"
   ]
  },
  {
   "cell_type": "code",
   "execution_count": null,
   "id": "68fafe76-b22b-4733-9b65-f490c88d052e",
   "metadata": {},
   "outputs": [],
   "source": [
    "$ . ./create_fake_data.sh"
   ]
  },
  {
   "cell_type": "code",
   "execution_count": null,
   "id": "e8b78983-0f69-4e5f-b596-61217114a24c",
   "metadata": {},
   "outputs": [],
   "source": [
    "16 users created with success!\n",
    "16 profiles created with success!\n",
    "32 tags created with success!\n",
    "64 posts created with success!\n",
    "256 comments created with success!\n",
    "1024 likes created with success!"
   ]
  },
  {
   "cell_type": "markdown",
   "id": "981c6c4a-9965-4377-b134-381081eb793d",
   "metadata": {},
   "source": [
    "Now, you're all set! You can start exploring the API and testing its features."
   ]
  },
  {
   "cell_type": "markdown",
   "id": "7f118b1a-ed02-40f3-9866-3cbafa712fc1",
   "metadata": {},
   "source": [
    "## DRF - Web browsable API \n",
    "[http://localhost:8000/](http://localhost:8000/)\n",
    "\n",
    "This link leads to the Django Rest Framework (DRF) Web Browsable API for our project. This interface allows for easy navigation, creation, and manipulation of the API endpoints directly from the web browser. It's perfect for quick testing and debugging, providing a user-friendly interface for interacting with our data models. \n",
    "\n",
    "Note: Please ensure that the server is running locally on your machine for this link to work. You can start the server using the following command in the root directory of the project: `python manage.py runserver`"
   ]
  },
  {
   "cell_type": "markdown",
   "id": "7cd30a5f-19dd-4a3c-8c27-29f69096cc44",
   "metadata": {},
   "source": [
    "## Swagger UI documentation\n",
    "[http://localhost:8000/swagger/](http://localhost:8000/swagger/)\n",
    "\n",
    "\n",
    "This link leads to the Swagger UI documentation of our API. Swagger is a set of open-source tools built around the OpenAPI Specification that can help you design, build, document, and use REST APIs. It makes it easy for developers to understand and work with our API by providing an interactive documentation with a sleek user interface. \n",
    "\n",
    "Note: Please ensure that the server is running locally on your machine for this link to work. You can start the server using the following command in the root directory of the project: `python manage.py runserver`"
   ]
  },
  {
   "cell_type": "markdown",
   "id": "8d072090-9dec-4e59-aa7f-75e78c4acceb",
   "metadata": {},
   "source": [
    "## Read the Docs\n",
    "[https://prueba-django-rest-backend-senior.readthedocs.io/en/latest/](https://prueba-django-rest-backend-senior.readthedocs.io/en/latest/)\n",
    "\n",
    "\n",
    "This link will take you to our project's documentation hosted on Read the Docs. Here you'll find detailed information about the project's structure, functionality, and how to use it. The documentation is carefully written to guide you through the setup process, demonstrate the usage of the project, and provide insights into the codebase."
   ]
  },
  {
   "cell_type": "markdown",
   "id": "2b10371b-f17f-4779-a08a-3ce02679b461",
   "metadata": {},
   "source": [
    "## GitHub\n",
    "\n",
    "[https://github.com/YeisonCardona/Prueba-Django-REST-Backend-Senior](https://github.com/YeisonCardona/Prueba-Django-REST-Backend-Senior)\n",
    "\n",
    "The link above directs you to our project's GitHub repository. Here, you can access the complete codebase, check the latest commits, download the source code, or clone the repository for your own use. The repository provides a comprehensive view of the project's development history and its current state."
   ]
  }
 ],
 "metadata": {
  "kernelspec": {
   "display_name": "Python 3 (ipykernel)",
   "language": "python",
   "name": "python3"
  },
  "language_info": {
   "codemirror_mode": {
    "name": "ipython",
    "version": 3
   },
   "file_extension": ".py",
   "mimetype": "text/x-python",
   "name": "python",
   "nbconvert_exporter": "python",
   "pygments_lexer": "ipython3",
   "version": "3.11.3"
  }
 },
 "nbformat": 4,
 "nbformat_minor": 5
}
