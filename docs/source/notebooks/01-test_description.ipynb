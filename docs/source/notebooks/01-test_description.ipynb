{
 "cells": [
  {
   "cell_type": "markdown",
   "id": "0",
   "metadata": {},
   "source": [
    "# Prueba-Django-REST-Backend-Senior\n",
    "\n",
    "## Objetivo:\n",
    "Desarrollar una API RESTful para una plataforma de blog con funcionalidades\n",
    "avanzadas utilizando Django REST Framework y Python como lenguaje de\n",
    "programación principal.\n",
    "\n",
    "## Descripción del Proyecto:\n",
    "La plataforma de blog consta de varias entidades: Usuarios, Perfiles, Entradas\n",
    "(Posts), Comentarios y Likes. Los Usuarios pueden tener roles de administrador,\n",
    "editor o blogger. Los Usuarios tienen un Perfil asociado con información\n",
    "adicional como la biografía y la imagen de perfil. Las Entradas están asociadas\n",
    "a un Usuario (el autor) e incluyen un título, contenido, fecha de publicación,\n",
    "categoría y una lista de etiquetas (tags). Los Comentarios están vinculados a\n",
    "un Usuario (la persona que comenta) y a una Entrada, e incluyen el texto del\n",
    "comentario. Los Usuarios pueden dar Like tanto a Entradas como a Comentarios.\n",
    "\n",
    "## Requisitos del proyecto:\n",
    "\n",
    " 1. **Modelado de Datos:** Diseña e implementa modelos de datos para Usuario,\n",
    " Perfil, Entrada, Comentario y Like.\n",
    " 1. **Autenticación y Autorización:** Implementa un sistema de autenticación y\n",
    " autorización que permita a los administradores gestionar todos los recursos,\n",
    " a los editores gestionar Entradas, Comentarios y Likes, y a los bloggers crear\n",
    " y gestionar sus propias Entradas, Comentarios y Likes.\n",
    " 1. **API Endpoints:** Implementa los siguientes endpoints:\n",
    "\t * CRUD de Usuarios y Perfiles\n",
    "\t * CRUD de Entradas\n",
    "\t * CRUD de Comentarios\n",
    "\t * CRUD de Likes\n",
    " 1. **Serialización:** Emplea los serializadores de Django REST para manejar\n",
    "    la conversión entre modelos y JSON.\n",
    " 1. **Filtros y Paginación:** Implementa filtros que permitan buscar\n",
    "    entradas por título, autor, categoría y etiquetas. Además,\n",
    "    implementa la paginación en los endpoints que devuelven múltiples\n",
    "    recursos.\n",
    " 1. **Pruebas:** Desarrolla pruebas unitarias y de integración para los\n",
    "    modelos, la autenticación, la autorización y los endpoints de la\n",
    "    API. Asegúrate de cubrir tanto los casos de éxito como los de error.\n",
    " 1. **Documentación:** Documenta todos los endpoints de la API utilizando\n",
    "    Django REST Swagger o similar.\n",
    "\n",
    "## Instrucciones de entrega:\n",
    "Por favor, sube tu solución a un repositorio de GitHub y comparte el enlace con\n",
    "nosotros. Asegúrate de incluir un archivo README con instrucciones detalladas\n",
    "sobre cómo instalar y ejecutar el proyecto, cómo ejecutar las pruebas, y\n",
    "cualquier información relevante.\n",
    "\n",
    "## Fecha límite:\n",
    "Te pedimos que completes y envíes la prueba técnica el día\n",
    "**Viernes 26 de Mayo del 2023 11:59pm (GTM-5)**\n",
    "\n",
    "## Criterios de evaluación:\n",
    "Nuestro equipo evaluará la calidad del código, el cumplimiento de los\n",
    "requisitos, la selección de herramientas y técnicas utilizadas, la cobertura de\n",
    "las pruebas, la correcta implementación de la paginación y los filtros, así\n",
    "como la calidad de la documentación de la API."
   ]
  }
 ],
 "metadata": {
  "kernelspec": {
   "display_name": "Python 3 (ipykernel)",
   "language": "python",
   "name": "python3"
  },
  "language_info": {
   "codemirror_mode": {
    "name": "ipython",
    "version": 3
   },
   "file_extension": ".py",
   "mimetype": "text/x-python",
   "name": "python",
   "nbconvert_exporter": "python",
   "pygments_lexer": "ipython3",
   "version": "3.11.3"
  }
 },
 "nbformat": 4,
 "nbformat_minor": 5
}
